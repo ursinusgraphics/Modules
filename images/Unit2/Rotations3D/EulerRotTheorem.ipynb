{
 "cells": [
  {
   "cell_type": "markdown",
   "id": "bace4356-cff0-41de-8830-48b5838256a5",
   "metadata": {},
   "source": [
    "# Axis-Angle Representations of 3D Rotations\n",
    "### Chris Tralie\n",
    "\n",
    "## Euler's Rotation Theorem\n"
   ]
  },
  {
   "cell_type": "code",
   "execution_count": 1,
   "id": "94ceee20-11d7-4312-9ee4-e064187118c3",
   "metadata": {},
   "outputs": [],
   "source": [
    "import numpy as np\n",
    "from numpy import linalg\n",
    "import matplotlib.pyplot as plt"
   ]
  },
  {
   "cell_type": "code",
   "execution_count": 2,
   "id": "8361a7cf-e8ab-42a3-a7e5-65c2505dd7a7",
   "metadata": {},
   "outputs": [],
   "source": [
    "R = np.array([[0.84, -0.49, -0.23],\n",
    "              [0.18,  0.66, -0.73],\n",
    "              [0.51,  0.57,  0.64]])"
   ]
  },
  {
   "cell_type": "code",
   "execution_count": 3,
   "id": "ae1629d6-1f62-4e54-90cb-01e136b6ae45",
   "metadata": {},
   "outputs": [
    {
     "name": "stdout",
     "output_type": "stream",
     "text": [
      "[-0.793643    0.45216306 -0.4070373 ]\n",
      "[-0.79460143  0.45270911 -0.40752886]\n"
     ]
    }
   ],
   "source": [
    "w, v = linalg.eig(R)\n",
    "a = np.real(v[:, 0])\n",
    "print(a)\n",
    "print(R.dot(a))"
   ]
  },
  {
   "cell_type": "markdown",
   "id": "885f7a08-91ce-41ec-b067-7f005ed92064",
   "metadata": {},
   "source": [
    "Euler's Rotation Theorem: For a given 3D rotation matrix $R$, there exists a vector $\\vec{a}$ so that $R\\vec{a} = \\vec{a}$.  In other words, there is exactly one vector that stays fixed when we apply the rotation matrix"
   ]
  },
  {
   "cell_type": "code",
   "execution_count": 10,
   "id": "32921799-1990-4a9d-b4e1-ae740a181590",
   "metadata": {},
   "outputs": [
    {
     "name": "stdout",
     "output_type": "stream",
     "text": [
      "5.3187805777661605\n"
     ]
    }
   ],
   "source": [
    "u = [1, 0, 0]\n",
    "v = R.dot(u)\n",
    "u = u - a*np.sum(u*a) # perp projection of u\n",
    "u = u/np.sqrt(np.sum(u**2))\n",
    "v = v - a*np.sum(v*a) # perp projection of v\n",
    "v = v/np.sqrt(np.sum(v**2))\n",
    "theta = -np.arccos(np.sum(u*v)) ## We need to be careful to check the sign of theta here!\n",
    "## This example ended up being negative, but it's not always so\n",
    "print(theta)"
   ]
  },
  {
   "cell_type": "markdown",
   "id": "28ac515e-9546-4bd1-a632-3fc080ba363b",
   "metadata": {},
   "source": [
    "## Rodrigues' Rotation Formula\n",
    "\n",
    "<img src = \"RodriguesDeriv.svg\">\n"
   ]
  },
  {
   "cell_type": "code",
   "execution_count": null,
   "id": "664a8192-4efe-46c3-acc1-fe9a560f38b6",
   "metadata": {},
   "outputs": [],
   "source": [
    "## Here is some javascript code to do this\n",
    "/**\n",
    " * Rotate a vector around an axis by a particular angle\n",
    " * \n",
    " * @param {vec3} v Vector to rotate\n",
    " * @param {vec3} axis Axis around which to rotate\n",
    " * @param {float} theta Angle, in radians, to rotate\n",
    " * @returns vec3: Result of the rotation\n",
    " */\n",
    "function rotateAxisAngle(v, axis, theta) {\n",
    "    let vproja = proj(v, axis);\n",
    "    let c = vec3.sub(vec3.create(), v, vproja);\n",
    "    let s = vec3.cross(vec3.create(), axis, c);\n",
    "    let vrot = vec3.scaleAndAdd(vec3.create(), vproja, c, Math.cos(theta));\n",
    "    vrot = vec3.scaleAndAdd(vrot, vrot, s, Math.sin(theta));\n",
    "    return vrot;\n",
    "}"
   ]
  },
  {
   "cell_type": "markdown",
   "id": "07872d6e-fdba-405d-9119-a243bf74f862",
   "metadata": {},
   "source": [
    "## Matrix Form of Axis/Angle\n",
    "\n",
    "We can convert Rodrigues' rotation formula into this form:\n",
    "\n",
    "### $\\vec{v_{\\text{rot}}} = \\vec{v} + (1 - \\cos \\theta) (\\vec{a} \\times (\\vec{a} \\times \\vec{v})) + \\sin \\theta (\\vec{a} \\times \\vec{v}) $\n",
    "\n",
    "Then, we make the observation that this cross product can be written as a matrix\n",
    "\n",
    "### $ \\vec{a} \\times \\vec{x} = A \\vec{x}$"
   ]
  },
  {
   "cell_type": "markdown",
   "id": "d65916b1-c1a9-4bad-be7b-8f160dc3a7f6",
   "metadata": {},
   "source": [
    "### $\\vec{a} = (a_x, a_y, a_z)$"
   ]
  },
  {
   "cell_type": "markdown",
   "id": "bdd4b0a2-096c-4ed0-a070-625c12f57a14",
   "metadata": {},
   "source": [
    "### $ A = \\left[ \\begin{array}{ccc} 0 & -a_z & a_y \\\\ a_z & 0 & -a_x \\\\ -a_y & a_x & 0   \\end{array} \\right]$\n",
    "\n",
    "if we do some substitutions, we can eventually arrive at an equation to convert the axis/angle into a 3D rotation matrix"
   ]
  },
  {
   "cell_type": "markdown",
   "id": "433e92aa-4585-4120-a10c-5f86ac826977",
   "metadata": {},
   "source": [
    "### $\\vec{v_{\\text{rot}}} = I\\vec{v} + (1 - \\cos \\theta) (A A)\\vec{v} + (\\sin \\theta A) \\vec{v} $"
   ]
  },
  {
   "cell_type": "markdown",
   "id": "bbb57b71-16f4-4233-a6d1-dc5127854c23",
   "metadata": {},
   "source": [
    "### $R = I + (1 - \\cos \\theta) (A A) + \\sin \\theta (A)  $"
   ]
  },
  {
   "cell_type": "code",
   "execution_count": 11,
   "id": "cc59a26e-2cab-4861-a2f9-63a3a866c539",
   "metadata": {},
   "outputs": [
    {
     "name": "stdout",
     "output_type": "stream",
     "text": [
      "[[ 0.84080901 -0.48880833 -0.2326083 ]\n",
      " [ 0.18012476  0.65783943 -0.73130183]\n",
      " [ 0.51048534  0.57298665  0.6411638 ]]\n"
     ]
    }
   ],
   "source": [
    "A = np.array([[0, -a[2], a[1]], [a[2], 0, -a[0]], [-a[1], a[0], 0]])\n",
    "\n",
    "R2 = np.eye(3) + (1-np.cos(theta))*(A.dot(A)) + np.sin(theta)*A\n",
    "print(R2)"
   ]
  },
  {
   "cell_type": "code",
   "execution_count": 12,
   "id": "e3833614-890c-49b3-8801-516dd818e2e1",
   "metadata": {},
   "outputs": [
    {
     "name": "stdout",
     "output_type": "stream",
     "text": [
      "[[ 0.84 -0.49 -0.23]\n",
      " [ 0.18  0.66 -0.73]\n",
      " [ 0.51  0.57  0.64]]\n"
     ]
    }
   ],
   "source": [
    "print(R)"
   ]
  },
  {
   "cell_type": "code",
   "execution_count": null,
   "id": "0438bfa1-6b14-49b9-8061-723e9d05c245",
   "metadata": {},
   "outputs": [],
   "source": []
  }
 ],
 "metadata": {
  "kernelspec": {
   "display_name": "Python 3 (ipykernel)",
   "language": "python",
   "name": "python3"
  },
  "language_info": {
   "codemirror_mode": {
    "name": "ipython",
    "version": 3
   },
   "file_extension": ".py",
   "mimetype": "text/x-python",
   "name": "python",
   "nbconvert_exporter": "python",
   "pygments_lexer": "ipython3",
   "version": "3.11.9"
  }
 },
 "nbformat": 4,
 "nbformat_minor": 5
}
