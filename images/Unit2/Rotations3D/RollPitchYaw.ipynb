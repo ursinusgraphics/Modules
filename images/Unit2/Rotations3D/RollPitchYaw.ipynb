{
 "cells": [
  {
   "cell_type": "markdown",
   "id": "be446ce4-8c36-411e-8a14-997d7e214983",
   "metadata": {},
   "source": [
    "# Yaw/Pitch/Roll\n",
    "## Chris Tralie\n",
    "\n",
    "# Canonical 3D Axes of Rotation\n"
   ]
  },
  {
   "cell_type": "markdown",
   "id": "b7e6343b-3508-41ef-9086-cc556de049b3",
   "metadata": {},
   "source": [
    "## $ R_Y(\\alpha) = \\left[ \\begin{array}{ccc}  \\cos(\\alpha) & 0 & \\sin(\\alpha) \\\\ 0 & 1 & 0 \\\\ -\\sin(\\alpha) & 0 & \\cos(\\alpha) \\end{array} \\right]$\n",
    "\n",
    "## $ R_X(\\beta) = \\left[ \\begin{array}{ccc}  1 & 0 & 0 \\\\ 0 & \\cos(\\beta) & -\\sin(\\beta) \\\\ 0 & \\sin(\\beta) & \\cos(\\beta) \\end{array} \\right]$\n",
    "\n",
    "## $ R_Z(\\gamma) = \\left[ \\begin{array}{ccc} \\cos(\\gamma) & -\\sin(\\gamma) & 0 \\\\ \\sin(\\gamma) & \\cos(\\gamma) & 0 \\\\ 0 & 0 & 1 \\end{array} \\right]$"
   ]
  },
  {
   "cell_type": "markdown",
   "id": "2545a3cb-1e27-4f08-8593-c0f08240a6f4",
   "metadata": {},
   "source": [
    "# A Choice of Gimbals\n",
    "\n",
    "<a href = \"https://ursinusgraphics.github.io/RollPitchYaw/\">Click here</a> to try this interactively\n",
    "\n",
    "\n",
    "<img src = \"SceneGraph/GimbalSystem.png\">\n",
    "\n",
    "\n",
    "The scene graph describing our choice is shown below:\n",
    "\n",
    "<img src = \"SceneGraph/SceneGraph.svg\">\n",
    "\n"
   ]
  },
  {
   "cell_type": "markdown",
   "id": "98b773b1-d73a-4d4e-a5c1-4676ecd4f35d",
   "metadata": {
    "jp-MarkdownHeadingCollapsed": true
   },
   "source": [
    "Below is the full matrix that takes local coordinates on the inner ring to world coordinates:\n",
    "\n",
    "## $R_Y(\\alpha) R_X(\\beta) R_Z(\\gamma) =  \\left[  \\begin{array}{ccc} c_{\\alpha} c_{\\gamma} + s_{\\alpha} s_{\\beta} s_{\\gamma}  & c_{\\gamma}  s_{\\alpha} s_{\\beta} - c_{\\alpha} s_{\\gamma}  & c_{\\beta} s_{\\alpha} \\\\ c_{\\beta} s_{\\gamma} & c_{\\beta} c_{\\gamma} & -s_{\\beta} \\\\ c_{\\alpha} s_{\\beta} s_{\\gamma} - c_{\\gamma} s_{\\alpha} & c_{\\alpha} c_{\\gamma} s_{\\beta} + s_{\\alpha} s_{\\gamma} & c_{\\alpha} c_{\\beta} \\end{array} \\right] $\n",
    "\n",
    "\n",
    "NOTE: These matrices can be multiplied together in any order, and everything I'm discussing below still applies.  We've chosen one of six possible orders.  Have a look at the others on <a href = \"https://en.wikipedia.org/wiki/Euler_angles#Rotation_matrix\">Wikipedia</a>\n"
   ]
  },
  {
   "cell_type": "markdown",
   "id": "a44eed40-033c-49e6-83d5-897bead282bf",
   "metadata": {},
   "source": [
    "# Linear Interpolation\n",
    "\n",
    "### Want to do an animation for $(\\alpha_1, \\beta_1, \\gamma_1)$ to $(\\alpha_2, \\beta_2, \\gamma_2)$\n",
    "\n",
    "The linear interpolation between both of these, where $t \\in [0, 1]$, is \n",
    "\n",
    "### $(\\alpha(t), \\beta(t), \\gamma(t)) =  ( \\alpha_1 (1-t) + \\alpha_2 t,  \\beta_1 (1-t) + \\beta_2 t,  \\gamma_1 (1-t) + \\gamma_2 t )$\n",
    "\n",
    "\n",
    "So at the beginning at time $t=0$, we have\n",
    "### $(\\alpha(t), \\beta(t), \\gamma(t)) = (\\alpha_1, \\beta_1, \\gamma_1)$\n",
    "\n",
    "and at the end at time $t=1$, we have\n",
    "\n",
    "### $(\\alpha(t), \\beta(t), \\gamma(t)) = (\\alpha_2, \\beta_2, \\gamma_2)$\n"
   ]
  },
  {
   "cell_type": "markdown",
   "id": "648a061d-332b-4e0c-b2bf-9c1c33a64287",
   "metadata": {},
   "source": [
    "# Gimbal Lock\n",
    "\n",
    "We can examine gimbal lock mathematically\n",
    "\n",
    "### Suppose $\\beta = \\pi/2$, $\\cos(\\beta) = 0, \\sin(\\beta) = 1$\n",
    "\n",
    "Then, substituting into the overall equation for the rotation, we get\n"
   ]
  },
  {
   "cell_type": "markdown",
   "id": "a7414330-900d-4b8c-a0ef-082858186759",
   "metadata": {},
   "source": [
    "## $R_Y(\\alpha) R_X(\\beta) R_Z(\\gamma) =  \\left[  \\begin{array}{ccc} c_{\\alpha} c_{\\gamma} + s_{\\alpha} s_{\\gamma}  & s_{\\alpha} c_{\\gamma}  - c_{\\alpha} s_{\\gamma}  & 0 \\\\ 0 & 0 & -1 \\\\ c_{\\alpha} s_{\\gamma} - c_{\\gamma} s_{\\alpha} &  c_{\\alpha} c_{\\gamma}  +  s_{\\alpha} s_{\\gamma} & 0 \\end{array} \\right] $"
   ]
  },
  {
   "cell_type": "markdown",
   "id": "326f08e8-a504-4dd9-804b-d2e7c9dbc7af",
   "metadata": {},
   "source": [
    "Using the cosine sum and sine sum identities, we se that we get the following matrix, in which $\\alpha$ and $\\gamma$ fight against each other to rotate in the same plane"
   ]
  },
  {
   "cell_type": "markdown",
   "id": "aaccbeae-fdb1-4262-8791-b8c06718a97c",
   "metadata": {},
   "source": [
    "## $R_Y(\\alpha) R_X(\\beta) R_Z(\\gamma) =  \\left[  \\begin{array}{ccc} \\cos(\\alpha - \\gamma)  & \\sin(\\alpha - \\gamma)  & 0 \\\\ 0 & 0 & -1 \\\\ -\\sin(\\alpha - \\gamma) & \\cos(\\alpha - \\gamma) & 0 \\end{array} \\right] $\n",
    "\n",
    "\n",
    "NOTE: A similar thing will happen with any other order I put the rotation matrices in, if I set the inner ring to have a rotation angle of 90 degrees or 270 degrees.  In all cases, the outer rings will be stuck rotating in the same plane.  Another way of saying this is we \"lose a degree of freedom\" in the rotation; we used to be able to do 3 different things with 3 different angles, but now two of them collapse to the same plane of rotation, so we can only do 2 things with the three angles\n"
   ]
  },
  {
   "cell_type": "markdown",
   "id": "e7e362c7-35eb-46e6-8d06-5562cd278f7c",
   "metadata": {},
   "source": [
    "# Rotation matrix -> Angles\n",
    "\n",
    "It's possible to derive the angles that would realize an arbitrary rotation matrix.  To see this, we'll go back to the full rotation matrix and look for some opportunities to isolate the angles\n",
    "\n",
    "## $R = R_Y(\\alpha) R_X(\\beta) R_Z(\\gamma) =  \\left[  \\begin{array}{ccc} c_{\\alpha} c_{\\gamma} + s_{\\alpha} s_{\\beta} s_{\\gamma}  & c_{\\gamma}  s_{\\alpha} s_{\\beta} - c_{\\alpha} s_{\\gamma}  & c_{\\beta} s_{\\alpha} \\\\ c_{\\beta} s_{\\gamma} & c_{\\beta} c_{\\gamma} & -s_{\\beta} \\\\ c_{\\alpha} s_{\\beta} s_{\\gamma} - c_{\\gamma} s_{\\alpha} & c_{\\alpha} c_{\\gamma} s_{\\beta} + s_{\\alpha} s_{\\gamma} & c_{\\alpha} c_{\\beta} \\end{array} \\right] $\n",
    "\n",
    "In doing so, we get these equations:\n"
   ]
  },
  {
   "cell_type": "markdown",
   "id": "c9740867-1049-48bd-8fa9-0f793174560d",
   "metadata": {},
   "source": [
    "### $ \\beta = \\sin^{-1}(-R_{23})$"
   ]
  },
  {
   "cell_type": "markdown",
   "id": "344db348-91bd-42ba-ac0a-9a314083204b",
   "metadata": {},
   "source": [
    "### $\\alpha = \\tan^{-1} (R_{1, 3}, R_{3, 3})$"
   ]
  },
  {
   "cell_type": "markdown",
   "id": "aae806e2-7ec6-4ea0-88b0-7b1022e6a595",
   "metadata": {},
   "source": [
    "### $\\gamma = \\tan^{-1} (R_{2, 1}, R_{2, 2})$\n",
    "\n",
    "Below is an example of a random rotation matrix where we apply these formulas to get the $\\alpha, \\beta, \\gamma$ that would realize these rotations with our gimbal system"
   ]
  },
  {
   "cell_type": "code",
   "execution_count": 1,
   "id": "c99ac0f5-5ef8-462a-91bc-09ef8e7e8289",
   "metadata": {},
   "outputs": [
    {
     "name": "stdout",
     "output_type": "stream",
     "text": [
      "[[-0.45996176  0.84045837 -0.28646975]\n",
      " [-0.86138526 -0.50065539 -0.08578823]\n",
      " [-0.21552406  0.20730151  0.95424078]]\n"
     ]
    }
   ],
   "source": [
    "import numpy as np\n",
    "from numpy import linalg\n",
    "\n",
    "np.random.seed(0)\n",
    "R, _, _ = linalg.svd(np.random.randn(3, 3)) # A random rotation matrix\n",
    "print(R)"
   ]
  },
  {
   "cell_type": "code",
   "execution_count": 2,
   "id": "4dcfcc76-4169-4c9c-9711-d97e5809db2b",
   "metadata": {},
   "outputs": [
    {
     "name": "stdout",
     "output_type": "stream",
     "text": [
      "343.28987635835756 4.9213526531482215 239.83393701964994\n"
     ]
    }
   ],
   "source": [
    "beta = 180*np.arcsin(-R[1, 2])/np.pi\n",
    "alpha = 180*np.arctan2(R[0, 2], R[2, 2])/np.pi\n",
    "gamma = 180*np.arctan2(R[1, 0], R[1, 1])/np.pi\n",
    "print(alpha+360, beta, gamma+360)"
   ]
  },
  {
   "cell_type": "code",
   "execution_count": null,
   "id": "52dadc3a-5099-4a5f-80a4-654950db9a84",
   "metadata": {},
   "outputs": [],
   "source": []
  }
 ],
 "metadata": {
  "kernelspec": {
   "display_name": "Python 3 (ipykernel)",
   "language": "python",
   "name": "python3"
  },
  "language_info": {
   "codemirror_mode": {
    "name": "ipython",
    "version": 3
   },
   "file_extension": ".py",
   "mimetype": "text/x-python",
   "name": "python",
   "nbconvert_exporter": "python",
   "pygments_lexer": "ipython3",
   "version": "3.11.9"
  }
 },
 "nbformat": 4,
 "nbformat_minor": 5
}
